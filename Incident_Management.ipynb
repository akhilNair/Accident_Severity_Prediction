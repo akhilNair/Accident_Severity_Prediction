{
 "cells": [
  {
   "cell_type": "code",
   "execution_count": 189,
   "metadata": {},
   "outputs": [],
   "source": [
    "import pandas as pd\n",
    "import numpy as np\n",
    "import matplotlib.pyplot as plt\n",
    "import seaborn as sns"
   ]
  },
  {
   "source": [
    "df=pd.read_csv(\"./Data/incident_event_log.csv\")\n",
    "df.head()"
   ],
   "cell_type": "code",
   "metadata": {},
   "execution_count": 190,
   "outputs": [
    {
     "output_type": "execute_result",
     "data": {
      "text/plain": [
       "       number incident_state  active  reassignment_count  reopen_count  \\\n",
       "0  INC0000045            New    True                   0             0   \n",
       "1  INC0000045       Resolved    True                   0             0   \n",
       "2  INC0000045       Resolved    True                   0             0   \n",
       "3  INC0000045         Closed   False                   0             0   \n",
       "4  INC0000047            New    True                   0             0   \n",
       "\n",
       "   sys_mod_count  made_sla    caller_id       opened_by        opened_at  ...  \\\n",
       "0              0      True  Caller 2403    Opened by  8  29/2/2016 01:16  ...   \n",
       "1              2      True  Caller 2403    Opened by  8  29/2/2016 01:16  ...   \n",
       "2              3      True  Caller 2403    Opened by  8  29/2/2016 01:16  ...   \n",
       "3              4      True  Caller 2403    Opened by  8  29/2/2016 01:16  ...   \n",
       "4              0      True  Caller 2403  Opened by  397  29/2/2016 04:40  ...   \n",
       "\n",
       "  u_priority_confirmation         notify problem_id rfc vendor caused_by  \\\n",
       "0                   False  Do Not Notify          ?   ?      ?         ?   \n",
       "1                   False  Do Not Notify          ?   ?      ?         ?   \n",
       "2                   False  Do Not Notify          ?   ?      ?         ?   \n",
       "3                   False  Do Not Notify          ?   ?      ?         ?   \n",
       "4                   False  Do Not Notify          ?   ?      ?         ?   \n",
       "\n",
       "  closed_code      resolved_by      resolved_at       closed_at  \n",
       "0      code 5  Resolved by 149  29/2/2016 11:29  5/3/2016 12:00  \n",
       "1      code 5  Resolved by 149  29/2/2016 11:29  5/3/2016 12:00  \n",
       "2      code 5  Resolved by 149  29/2/2016 11:29  5/3/2016 12:00  \n",
       "3      code 5  Resolved by 149  29/2/2016 11:29  5/3/2016 12:00  \n",
       "4      code 5   Resolved by 81   1/3/2016 09:52  6/3/2016 10:00  \n",
       "\n",
       "[5 rows x 36 columns]"
      ],
      "text/html": "<div>\n<style scoped>\n    .dataframe tbody tr th:only-of-type {\n        vertical-align: middle;\n    }\n\n    .dataframe tbody tr th {\n        vertical-align: top;\n    }\n\n    .dataframe thead th {\n        text-align: right;\n    }\n</style>\n<table border=\"1\" class=\"dataframe\">\n  <thead>\n    <tr style=\"text-align: right;\">\n      <th></th>\n      <th>number</th>\n      <th>incident_state</th>\n      <th>active</th>\n      <th>reassignment_count</th>\n      <th>reopen_count</th>\n      <th>sys_mod_count</th>\n      <th>made_sla</th>\n      <th>caller_id</th>\n      <th>opened_by</th>\n      <th>opened_at</th>\n      <th>...</th>\n      <th>u_priority_confirmation</th>\n      <th>notify</th>\n      <th>problem_id</th>\n      <th>rfc</th>\n      <th>vendor</th>\n      <th>caused_by</th>\n      <th>closed_code</th>\n      <th>resolved_by</th>\n      <th>resolved_at</th>\n      <th>closed_at</th>\n    </tr>\n  </thead>\n  <tbody>\n    <tr>\n      <th>0</th>\n      <td>INC0000045</td>\n      <td>New</td>\n      <td>True</td>\n      <td>0</td>\n      <td>0</td>\n      <td>0</td>\n      <td>True</td>\n      <td>Caller 2403</td>\n      <td>Opened by  8</td>\n      <td>29/2/2016 01:16</td>\n      <td>...</td>\n      <td>False</td>\n      <td>Do Not Notify</td>\n      <td>?</td>\n      <td>?</td>\n      <td>?</td>\n      <td>?</td>\n      <td>code 5</td>\n      <td>Resolved by 149</td>\n      <td>29/2/2016 11:29</td>\n      <td>5/3/2016 12:00</td>\n    </tr>\n    <tr>\n      <th>1</th>\n      <td>INC0000045</td>\n      <td>Resolved</td>\n      <td>True</td>\n      <td>0</td>\n      <td>0</td>\n      <td>2</td>\n      <td>True</td>\n      <td>Caller 2403</td>\n      <td>Opened by  8</td>\n      <td>29/2/2016 01:16</td>\n      <td>...</td>\n      <td>False</td>\n      <td>Do Not Notify</td>\n      <td>?</td>\n      <td>?</td>\n      <td>?</td>\n      <td>?</td>\n      <td>code 5</td>\n      <td>Resolved by 149</td>\n      <td>29/2/2016 11:29</td>\n      <td>5/3/2016 12:00</td>\n    </tr>\n    <tr>\n      <th>2</th>\n      <td>INC0000045</td>\n      <td>Resolved</td>\n      <td>True</td>\n      <td>0</td>\n      <td>0</td>\n      <td>3</td>\n      <td>True</td>\n      <td>Caller 2403</td>\n      <td>Opened by  8</td>\n      <td>29/2/2016 01:16</td>\n      <td>...</td>\n      <td>False</td>\n      <td>Do Not Notify</td>\n      <td>?</td>\n      <td>?</td>\n      <td>?</td>\n      <td>?</td>\n      <td>code 5</td>\n      <td>Resolved by 149</td>\n      <td>29/2/2016 11:29</td>\n      <td>5/3/2016 12:00</td>\n    </tr>\n    <tr>\n      <th>3</th>\n      <td>INC0000045</td>\n      <td>Closed</td>\n      <td>False</td>\n      <td>0</td>\n      <td>0</td>\n      <td>4</td>\n      <td>True</td>\n      <td>Caller 2403</td>\n      <td>Opened by  8</td>\n      <td>29/2/2016 01:16</td>\n      <td>...</td>\n      <td>False</td>\n      <td>Do Not Notify</td>\n      <td>?</td>\n      <td>?</td>\n      <td>?</td>\n      <td>?</td>\n      <td>code 5</td>\n      <td>Resolved by 149</td>\n      <td>29/2/2016 11:29</td>\n      <td>5/3/2016 12:00</td>\n    </tr>\n    <tr>\n      <th>4</th>\n      <td>INC0000047</td>\n      <td>New</td>\n      <td>True</td>\n      <td>0</td>\n      <td>0</td>\n      <td>0</td>\n      <td>True</td>\n      <td>Caller 2403</td>\n      <td>Opened by  397</td>\n      <td>29/2/2016 04:40</td>\n      <td>...</td>\n      <td>False</td>\n      <td>Do Not Notify</td>\n      <td>?</td>\n      <td>?</td>\n      <td>?</td>\n      <td>?</td>\n      <td>code 5</td>\n      <td>Resolved by 81</td>\n      <td>1/3/2016 09:52</td>\n      <td>6/3/2016 10:00</td>\n    </tr>\n  </tbody>\n</table>\n<p>5 rows × 36 columns</p>\n</div>"
     },
     "metadata": {},
     "execution_count": 190
    }
   ]
  },
  {
   "source": [
    "df.isnull().sum(axis=0) #Calculating NA's in each column"
   ],
   "cell_type": "code",
   "metadata": {},
   "execution_count": 191,
   "outputs": [
    {
     "output_type": "execute_result",
     "data": {
      "text/plain": [
       "number                     0\n",
       "incident_state             0\n",
       "active                     0\n",
       "reassignment_count         0\n",
       "reopen_count               0\n",
       "sys_mod_count              0\n",
       "made_sla                   0\n",
       "caller_id                  0\n",
       "opened_by                  0\n",
       "opened_at                  0\n",
       "sys_created_by             0\n",
       "sys_created_at             0\n",
       "sys_updated_by             0\n",
       "sys_updated_at             0\n",
       "contact_type               0\n",
       "location                   0\n",
       "category                   0\n",
       "subcategory                0\n",
       "u_symptom                  0\n",
       "cmdb_ci                    0\n",
       "impact                     0\n",
       "urgency                    0\n",
       "priority                   0\n",
       "assignment_group           0\n",
       "assigned_to                0\n",
       "knowledge                  0\n",
       "u_priority_confirmation    0\n",
       "notify                     0\n",
       "problem_id                 0\n",
       "rfc                        0\n",
       "vendor                     0\n",
       "caused_by                  0\n",
       "closed_code                0\n",
       "resolved_by                0\n",
       "resolved_at                0\n",
       "closed_at                  0\n",
       "dtype: int64"
      ]
     },
     "metadata": {},
     "execution_count": 191
    }
   ]
  },
  {
   "cell_type": "code",
   "execution_count": 192,
   "metadata": {},
   "outputs": [
    {
     "output_type": "execute_result",
     "data": {
      "text/plain": [
       "number                     object\n",
       "incident_state             object\n",
       "active                       bool\n",
       "reassignment_count          int64\n",
       "reopen_count                int64\n",
       "sys_mod_count               int64\n",
       "made_sla                     bool\n",
       "caller_id                  object\n",
       "opened_by                  object\n",
       "opened_at                  object\n",
       "sys_created_by             object\n",
       "sys_created_at             object\n",
       "sys_updated_by             object\n",
       "sys_updated_at             object\n",
       "contact_type               object\n",
       "location                   object\n",
       "category                   object\n",
       "subcategory                object\n",
       "u_symptom                  object\n",
       "cmdb_ci                    object\n",
       "impact                     object\n",
       "urgency                    object\n",
       "priority                   object\n",
       "assignment_group           object\n",
       "assigned_to                object\n",
       "knowledge                    bool\n",
       "u_priority_confirmation      bool\n",
       "notify                     object\n",
       "problem_id                 object\n",
       "rfc                        object\n",
       "vendor                     object\n",
       "caused_by                  object\n",
       "closed_code                object\n",
       "resolved_by                object\n",
       "resolved_at                object\n",
       "closed_at                  object\n",
       "dtype: object"
      ]
     },
     "metadata": {},
     "execution_count": 192
    }
   ],
   "source": [
    "df.dtypes"
   ]
  },
  {
   "source": [
    "df.describe()#Estimating the range of values in the dataset"
   ],
   "cell_type": "code",
   "metadata": {},
   "execution_count": 193,
   "outputs": [
    {
     "output_type": "execute_result",
     "data": {
      "text/plain": [
       "       reassignment_count   reopen_count  sys_mod_count\n",
       "count       141712.000000  141712.000000  141712.000000\n",
       "mean             1.104197       0.021918       5.080946\n",
       "std              1.734673       0.207302       7.680652\n",
       "min              0.000000       0.000000       0.000000\n",
       "25%              0.000000       0.000000       1.000000\n",
       "50%              1.000000       0.000000       3.000000\n",
       "75%              1.000000       0.000000       6.000000\n",
       "max             27.000000       8.000000     129.000000"
      ],
      "text/html": "<div>\n<style scoped>\n    .dataframe tbody tr th:only-of-type {\n        vertical-align: middle;\n    }\n\n    .dataframe tbody tr th {\n        vertical-align: top;\n    }\n\n    .dataframe thead th {\n        text-align: right;\n    }\n</style>\n<table border=\"1\" class=\"dataframe\">\n  <thead>\n    <tr style=\"text-align: right;\">\n      <th></th>\n      <th>reassignment_count</th>\n      <th>reopen_count</th>\n      <th>sys_mod_count</th>\n    </tr>\n  </thead>\n  <tbody>\n    <tr>\n      <th>count</th>\n      <td>141712.000000</td>\n      <td>141712.000000</td>\n      <td>141712.000000</td>\n    </tr>\n    <tr>\n      <th>mean</th>\n      <td>1.104197</td>\n      <td>0.021918</td>\n      <td>5.080946</td>\n    </tr>\n    <tr>\n      <th>std</th>\n      <td>1.734673</td>\n      <td>0.207302</td>\n      <td>7.680652</td>\n    </tr>\n    <tr>\n      <th>min</th>\n      <td>0.000000</td>\n      <td>0.000000</td>\n      <td>0.000000</td>\n    </tr>\n    <tr>\n      <th>25%</th>\n      <td>0.000000</td>\n      <td>0.000000</td>\n      <td>1.000000</td>\n    </tr>\n    <tr>\n      <th>50%</th>\n      <td>1.000000</td>\n      <td>0.000000</td>\n      <td>3.000000</td>\n    </tr>\n    <tr>\n      <th>75%</th>\n      <td>1.000000</td>\n      <td>0.000000</td>\n      <td>6.000000</td>\n    </tr>\n    <tr>\n      <th>max</th>\n      <td>27.000000</td>\n      <td>8.000000</td>\n      <td>129.000000</td>\n    </tr>\n  </tbody>\n</table>\n</div>"
     },
     "metadata": {},
     "execution_count": 193
    }
   ]
  },
  {
   "cell_type": "code",
   "execution_count": 194,
   "metadata": {},
   "outputs": [],
   "source": [
    "df.drop(['cmdb_ci', 'problem_id', 'rfc', 'vendor','caused_by','caller_id','opened_by','sys_created_by','sys_updated_by','location','resolved_by','notify','assigned_to','assignment_group'],axis = 1,inplace=True)"
   ]
  },
  {
   "cell_type": "code",
   "execution_count": 195,
   "metadata": {},
   "outputs": [
    {
     "output_type": "stream",
     "name": "stdout",
     "text": [
      "<class 'pandas.core.frame.DataFrame'>\nRangeIndex: 141712 entries, 0 to 141711\nData columns (total 22 columns):\n #   Column                   Non-Null Count   Dtype \n---  ------                   --------------   ----- \n 0   number                   141712 non-null  object\n 1   incident_state           141712 non-null  object\n 2   active                   141712 non-null  bool  \n 3   reassignment_count       141712 non-null  int64 \n 4   reopen_count             141712 non-null  int64 \n 5   sys_mod_count            141712 non-null  int64 \n 6   made_sla                 141712 non-null  bool  \n 7   opened_at                141712 non-null  object\n 8   sys_created_at           88636 non-null   object\n 9   sys_updated_at           141712 non-null  object\n 10  contact_type             141712 non-null  object\n 11  category                 141634 non-null  object\n 12  subcategory              141601 non-null  object\n 13  u_symptom                108748 non-null  object\n 14  impact                   141712 non-null  object\n 15  urgency                  141712 non-null  object\n 16  priority                 141712 non-null  object\n 17  knowledge                141712 non-null  bool  \n 18  u_priority_confirmation  141712 non-null  bool  \n 19  closed_code              140998 non-null  object\n 20  resolved_at              138571 non-null  object\n 21  closed_at                141712 non-null  object\ndtypes: bool(4), int64(3), object(15)\nmemory usage: 20.0+ MB\n"
     ]
    }
   ],
   "source": [
    "df.replace('?', np.NaN, inplace = True)\n",
    "df.info() #Replacing ? in the dataset ho"
   ]
  },
  {
   "source": [
    "df.shape"
   ],
   "cell_type": "markdown",
   "metadata": {}
  },
  {
   "cell_type": "code",
   "execution_count": 196,
   "metadata": {},
   "outputs": [],
   "source": [
    "#fig, ax = plt.subplots(figsize=(10,10))  \n",
    "#sns.heatmap(incident.isnull(), cmap='viridis',ax=ax) #Exploring the columns which have most NA values"
   ]
  },
  {
   "cell_type": "code",
   "execution_count": 197,
   "metadata": {},
   "outputs": [
    {
     "output_type": "execute_result",
     "data": {
      "text/plain": [
       "       number incident_state  active  reassignment_count  reopen_count  \\\n",
       "0  INC0000045            New    True                   0             0   \n",
       "1  INC0000045       Resolved    True                   0             0   \n",
       "2  INC0000045       Resolved    True                   0             0   \n",
       "3  INC0000045         Closed   False                   0             0   \n",
       "4  INC0000047            New    True                   0             0   \n",
       "5  INC0000047         Active    True                   1             0   \n",
       "6  INC0000047         Active    True                   1             0   \n",
       "7  INC0000047         Active    True                   1             0   \n",
       "\n",
       "   sys_mod_count  made_sla        opened_at   sys_created_at   sys_updated_at  \\\n",
       "0              0      True  29/2/2016 01:16  29/2/2016 01:23  29/2/2016 01:23   \n",
       "1              2      True  29/2/2016 01:16  29/2/2016 01:23  29/2/2016 08:53   \n",
       "2              3      True  29/2/2016 01:16  29/2/2016 01:23  29/2/2016 11:29   \n",
       "3              4      True  29/2/2016 01:16  29/2/2016 01:23   5/3/2016 12:00   \n",
       "4              0      True  29/2/2016 04:40  29/2/2016 04:57  29/2/2016 04:57   \n",
       "5              1      True  29/2/2016 04:40  29/2/2016 04:57  29/2/2016 05:30   \n",
       "6              2      True  29/2/2016 04:40  29/2/2016 04:57  29/2/2016 05:33   \n",
       "7              3      True  29/2/2016 04:40  29/2/2016 04:57  29/2/2016 11:31   \n",
       "\n",
       "   ...      subcategory    u_symptom      impact     urgency      priority  \\\n",
       "0  ...  Subcategory 170   Symptom 72  2 - Medium  2 - Medium  3 - Moderate   \n",
       "1  ...  Subcategory 170   Symptom 72  2 - Medium  2 - Medium  3 - Moderate   \n",
       "2  ...  Subcategory 170   Symptom 72  2 - Medium  2 - Medium  3 - Moderate   \n",
       "3  ...  Subcategory 170   Symptom 72  2 - Medium  2 - Medium  3 - Moderate   \n",
       "4  ...  Subcategory 215  Symptom 471  2 - Medium  2 - Medium  3 - Moderate   \n",
       "5  ...  Subcategory 215  Symptom 471  2 - Medium  2 - Medium  3 - Moderate   \n",
       "6  ...  Subcategory 215  Symptom 471  2 - Medium  2 - Medium  3 - Moderate   \n",
       "7  ...  Subcategory 215  Symptom 471  2 - Medium  2 - Medium  3 - Moderate   \n",
       "\n",
       "  knowledge u_priority_confirmation  closed_code      resolved_at  \\\n",
       "0      True                   False       code 5  29/2/2016 11:29   \n",
       "1      True                   False       code 5  29/2/2016 11:29   \n",
       "2      True                   False       code 5  29/2/2016 11:29   \n",
       "3      True                   False       code 5  29/2/2016 11:29   \n",
       "4      True                   False       code 5   1/3/2016 09:52   \n",
       "5      True                   False       code 5   1/3/2016 09:52   \n",
       "6      True                   False       code 5   1/3/2016 09:52   \n",
       "7      True                   False       code 5   1/3/2016 09:52   \n",
       "\n",
       "        closed_at  \n",
       "0  5/3/2016 12:00  \n",
       "1  5/3/2016 12:00  \n",
       "2  5/3/2016 12:00  \n",
       "3  5/3/2016 12:00  \n",
       "4  6/3/2016 10:00  \n",
       "5  6/3/2016 10:00  \n",
       "6  6/3/2016 10:00  \n",
       "7  6/3/2016 10:00  \n",
       "\n",
       "[8 rows x 22 columns]"
      ],
      "text/html": "<div>\n<style scoped>\n    .dataframe tbody tr th:only-of-type {\n        vertical-align: middle;\n    }\n\n    .dataframe tbody tr th {\n        vertical-align: top;\n    }\n\n    .dataframe thead th {\n        text-align: right;\n    }\n</style>\n<table border=\"1\" class=\"dataframe\">\n  <thead>\n    <tr style=\"text-align: right;\">\n      <th></th>\n      <th>number</th>\n      <th>incident_state</th>\n      <th>active</th>\n      <th>reassignment_count</th>\n      <th>reopen_count</th>\n      <th>sys_mod_count</th>\n      <th>made_sla</th>\n      <th>opened_at</th>\n      <th>sys_created_at</th>\n      <th>sys_updated_at</th>\n      <th>...</th>\n      <th>subcategory</th>\n      <th>u_symptom</th>\n      <th>impact</th>\n      <th>urgency</th>\n      <th>priority</th>\n      <th>knowledge</th>\n      <th>u_priority_confirmation</th>\n      <th>closed_code</th>\n      <th>resolved_at</th>\n      <th>closed_at</th>\n    </tr>\n  </thead>\n  <tbody>\n    <tr>\n      <th>0</th>\n      <td>INC0000045</td>\n      <td>New</td>\n      <td>True</td>\n      <td>0</td>\n      <td>0</td>\n      <td>0</td>\n      <td>True</td>\n      <td>29/2/2016 01:16</td>\n      <td>29/2/2016 01:23</td>\n      <td>29/2/2016 01:23</td>\n      <td>...</td>\n      <td>Subcategory 170</td>\n      <td>Symptom 72</td>\n      <td>2 - Medium</td>\n      <td>2 - Medium</td>\n      <td>3 - Moderate</td>\n      <td>True</td>\n      <td>False</td>\n      <td>code 5</td>\n      <td>29/2/2016 11:29</td>\n      <td>5/3/2016 12:00</td>\n    </tr>\n    <tr>\n      <th>1</th>\n      <td>INC0000045</td>\n      <td>Resolved</td>\n      <td>True</td>\n      <td>0</td>\n      <td>0</td>\n      <td>2</td>\n      <td>True</td>\n      <td>29/2/2016 01:16</td>\n      <td>29/2/2016 01:23</td>\n      <td>29/2/2016 08:53</td>\n      <td>...</td>\n      <td>Subcategory 170</td>\n      <td>Symptom 72</td>\n      <td>2 - Medium</td>\n      <td>2 - Medium</td>\n      <td>3 - Moderate</td>\n      <td>True</td>\n      <td>False</td>\n      <td>code 5</td>\n      <td>29/2/2016 11:29</td>\n      <td>5/3/2016 12:00</td>\n    </tr>\n    <tr>\n      <th>2</th>\n      <td>INC0000045</td>\n      <td>Resolved</td>\n      <td>True</td>\n      <td>0</td>\n      <td>0</td>\n      <td>3</td>\n      <td>True</td>\n      <td>29/2/2016 01:16</td>\n      <td>29/2/2016 01:23</td>\n      <td>29/2/2016 11:29</td>\n      <td>...</td>\n      <td>Subcategory 170</td>\n      <td>Symptom 72</td>\n      <td>2 - Medium</td>\n      <td>2 - Medium</td>\n      <td>3 - Moderate</td>\n      <td>True</td>\n      <td>False</td>\n      <td>code 5</td>\n      <td>29/2/2016 11:29</td>\n      <td>5/3/2016 12:00</td>\n    </tr>\n    <tr>\n      <th>3</th>\n      <td>INC0000045</td>\n      <td>Closed</td>\n      <td>False</td>\n      <td>0</td>\n      <td>0</td>\n      <td>4</td>\n      <td>True</td>\n      <td>29/2/2016 01:16</td>\n      <td>29/2/2016 01:23</td>\n      <td>5/3/2016 12:00</td>\n      <td>...</td>\n      <td>Subcategory 170</td>\n      <td>Symptom 72</td>\n      <td>2 - Medium</td>\n      <td>2 - Medium</td>\n      <td>3 - Moderate</td>\n      <td>True</td>\n      <td>False</td>\n      <td>code 5</td>\n      <td>29/2/2016 11:29</td>\n      <td>5/3/2016 12:00</td>\n    </tr>\n    <tr>\n      <th>4</th>\n      <td>INC0000047</td>\n      <td>New</td>\n      <td>True</td>\n      <td>0</td>\n      <td>0</td>\n      <td>0</td>\n      <td>True</td>\n      <td>29/2/2016 04:40</td>\n      <td>29/2/2016 04:57</td>\n      <td>29/2/2016 04:57</td>\n      <td>...</td>\n      <td>Subcategory 215</td>\n      <td>Symptom 471</td>\n      <td>2 - Medium</td>\n      <td>2 - Medium</td>\n      <td>3 - Moderate</td>\n      <td>True</td>\n      <td>False</td>\n      <td>code 5</td>\n      <td>1/3/2016 09:52</td>\n      <td>6/3/2016 10:00</td>\n    </tr>\n    <tr>\n      <th>5</th>\n      <td>INC0000047</td>\n      <td>Active</td>\n      <td>True</td>\n      <td>1</td>\n      <td>0</td>\n      <td>1</td>\n      <td>True</td>\n      <td>29/2/2016 04:40</td>\n      <td>29/2/2016 04:57</td>\n      <td>29/2/2016 05:30</td>\n      <td>...</td>\n      <td>Subcategory 215</td>\n      <td>Symptom 471</td>\n      <td>2 - Medium</td>\n      <td>2 - Medium</td>\n      <td>3 - Moderate</td>\n      <td>True</td>\n      <td>False</td>\n      <td>code 5</td>\n      <td>1/3/2016 09:52</td>\n      <td>6/3/2016 10:00</td>\n    </tr>\n    <tr>\n      <th>6</th>\n      <td>INC0000047</td>\n      <td>Active</td>\n      <td>True</td>\n      <td>1</td>\n      <td>0</td>\n      <td>2</td>\n      <td>True</td>\n      <td>29/2/2016 04:40</td>\n      <td>29/2/2016 04:57</td>\n      <td>29/2/2016 05:33</td>\n      <td>...</td>\n      <td>Subcategory 215</td>\n      <td>Symptom 471</td>\n      <td>2 - Medium</td>\n      <td>2 - Medium</td>\n      <td>3 - Moderate</td>\n      <td>True</td>\n      <td>False</td>\n      <td>code 5</td>\n      <td>1/3/2016 09:52</td>\n      <td>6/3/2016 10:00</td>\n    </tr>\n    <tr>\n      <th>7</th>\n      <td>INC0000047</td>\n      <td>Active</td>\n      <td>True</td>\n      <td>1</td>\n      <td>0</td>\n      <td>3</td>\n      <td>True</td>\n      <td>29/2/2016 04:40</td>\n      <td>29/2/2016 04:57</td>\n      <td>29/2/2016 11:31</td>\n      <td>...</td>\n      <td>Subcategory 215</td>\n      <td>Symptom 471</td>\n      <td>2 - Medium</td>\n      <td>2 - Medium</td>\n      <td>3 - Moderate</td>\n      <td>True</td>\n      <td>False</td>\n      <td>code 5</td>\n      <td>1/3/2016 09:52</td>\n      <td>6/3/2016 10:00</td>\n    </tr>\n  </tbody>\n</table>\n<p>8 rows × 22 columns</p>\n</div>"
     },
     "metadata": {},
     "execution_count": 197
    }
   ],
   "source": [
    "df.head(8)"
   ]
  },
  {
   "cell_type": "code",
   "execution_count": 198,
   "metadata": {},
   "outputs": [],
   "source": [
    "df.drop_duplicates(inplace = True)"
   ]
  },
  {
   "cell_type": "code",
   "execution_count": 199,
   "metadata": {},
   "outputs": [],
   "source": [
    "df = df[df['incident_state'] != '-100' ]"
   ]
  },
  {
   "cell_type": "code",
   "execution_count": 200,
   "metadata": {},
   "outputs": [],
   "source": [
    "ids = df['number']\n",
    "df.drop(['number'],inplace = True, axis = 1)"
   ]
  },
  {
   "cell_type": "code",
   "execution_count": 201,
   "metadata": {},
   "outputs": [],
   "source": [
    "df['incident_state'].replace(['Awaiting User Info','Awaiting Problem','Awaiting Vendor','Awaiting Evidence'],'Awaiting',inplace = True)"
   ]
  },
  {
   "cell_type": "code",
   "execution_count": 202,
   "metadata": {},
   "outputs": [
    {
     "output_type": "execute_result",
     "data": {
      "text/plain": [
       "               priority\n",
       "                  count\n",
       "incident_state         \n",
       "Active            38716\n",
       "Awaiting          15848\n",
       "Closed            24985\n",
       "New               36407\n",
       "Resolved          25751"
      ],
      "text/html": "<div>\n<style scoped>\n    .dataframe tbody tr th:only-of-type {\n        vertical-align: middle;\n    }\n\n    .dataframe tbody tr th {\n        vertical-align: top;\n    }\n\n    .dataframe thead tr th {\n        text-align: left;\n    }\n\n    .dataframe thead tr:last-of-type th {\n        text-align: right;\n    }\n</style>\n<table border=\"1\" class=\"dataframe\">\n  <thead>\n    <tr>\n      <th></th>\n      <th>priority</th>\n    </tr>\n    <tr>\n      <th></th>\n      <th>count</th>\n    </tr>\n    <tr>\n      <th>incident_state</th>\n      <th></th>\n    </tr>\n  </thead>\n  <tbody>\n    <tr>\n      <th>Active</th>\n      <td>38716</td>\n    </tr>\n    <tr>\n      <th>Awaiting</th>\n      <td>15848</td>\n    </tr>\n    <tr>\n      <th>Closed</th>\n      <td>24985</td>\n    </tr>\n    <tr>\n      <th>New</th>\n      <td>36407</td>\n    </tr>\n    <tr>\n      <th>Resolved</th>\n      <td>25751</td>\n    </tr>\n  </tbody>\n</table>\n</div>"
     },
     "metadata": {},
     "execution_count": 202
    }
   ],
   "source": [
    "df[['priority','incident_state']].groupby('incident_state').agg(['count'])"
   ]
  },
  {
   "cell_type": "code",
   "execution_count": 203,
   "metadata": {},
   "outputs": [],
   "source": [
    "df['active'] = df['active'].apply(lambda x : 1 if x == 'True' else 0)\n",
    "df['made_sla'] = df['made_sla'].apply(lambda x : 1 if x == 'True' else 0)\n",
    "df['knowledge'] = df['knowledge'].apply(lambda x : 1 if x == 'True' else 0)\n",
    "df['u_priority_confirmation'] = df['u_priority_confirmation'].apply(lambda x : 1 if x == 'True' else 0)\n",
    "\n",
    "df['priority'] = df['priority'].apply(lambda x : 1 if '1' in x else 2 if '2' in x else 3 if '3' in x else 4)\n",
    "df['impact'] = df['impact'].apply(lambda x : 1 if '1' in x else 2 if '2' in x else 3 if '3' in x else 4)\n",
    "df['urgency'] = df['urgency'].apply(lambda x : 1 if '1' in x else 2 if '2' in x else 3 if '3' in x else 4)\n",
    "\n",
    "df['closed_at'] = pd.to_datetime(df['closed_at'])\n",
    "df['opened_at'] = pd.to_datetime(df['opened_at'])\n",
    "df['sys_updated_at'] = pd.to_datetime(df['sys_updated_at'])\n",
    "df = pd.get_dummies(df,columns = ['incident_state'])"
   ]
  },
  {
   "cell_type": "code",
   "execution_count": 204,
   "metadata": {},
   "outputs": [],
   "source": [
    "df['lifetime'] = df['closed_at'] - df['opened_at']\n",
    "df['action_at'] = df['sys_updated_at'] - df['opened_at']"
   ]
  },
  {
   "cell_type": "code",
   "execution_count": 205,
   "metadata": {},
   "outputs": [],
   "source": [
    "df['lifetime'] = df['lifetime'].dt.days\n",
    "df['action_at'] = df['action_at'].dt.days"
   ]
  },
  {
   "cell_type": "code",
   "execution_count": 206,
   "metadata": {},
   "outputs": [],
   "source": [
    "df.drop(['closed_at','opened_at','sys_updated_at','sys_created_at','resolved_at','closed_code','category','category','subcategory','u_symptom','contact_type'],axis = 1,inplace=True)"
   ]
  },
  {
   "cell_type": "code",
   "execution_count": 207,
   "metadata": {},
   "outputs": [],
   "source": [
    "reass_count_labels = [1,2,3,4,5]\n",
    "df['reassignment_count'] = pd.cut(df['reassignment_count'],bins = 5, labels = reass_count_labels)"
   ]
  },
  {
   "cell_type": "code",
   "execution_count": 208,
   "metadata": {},
   "outputs": [
    {
     "output_type": "execute_result",
     "data": {
      "text/plain": [
       "   active reassignment_count  reopen_count  sys_mod_count  made_sla  impact  \\\n",
       "0       0                  1             0              0         0       2   \n",
       "1       0                  1             0              2         0       2   \n",
       "2       0                  1             0              3         0       2   \n",
       "3       0                  1             0              4         0       2   \n",
       "4       0                  1             0              0         0       2   \n",
       "\n",
       "   urgency  priority  knowledge  u_priority_confirmation  \\\n",
       "0        2         3          0                        0   \n",
       "1        2         3          0                        0   \n",
       "2        2         3          0                        0   \n",
       "3        2         3          0                        0   \n",
       "4        2         3          0                        0   \n",
       "\n",
       "   incident_state_Active  incident_state_Awaiting  incident_state_Closed  \\\n",
       "0                      0                        0                      0   \n",
       "1                      0                        0                      0   \n",
       "2                      0                        0                      0   \n",
       "3                      0                        0                      1   \n",
       "4                      0                        0                      0   \n",
       "\n",
       "   incident_state_New  incident_state_Resolved  lifetime  action_at  \n",
       "0                   1                        0        64          0  \n",
       "1                   0                        1        64          0  \n",
       "2                   0                        1        64          0  \n",
       "3                   0                        0        64         64  \n",
       "4                   1                        0        95          0  "
      ],
      "text/html": "<div>\n<style scoped>\n    .dataframe tbody tr th:only-of-type {\n        vertical-align: middle;\n    }\n\n    .dataframe tbody tr th {\n        vertical-align: top;\n    }\n\n    .dataframe thead th {\n        text-align: right;\n    }\n</style>\n<table border=\"1\" class=\"dataframe\">\n  <thead>\n    <tr style=\"text-align: right;\">\n      <th></th>\n      <th>active</th>\n      <th>reassignment_count</th>\n      <th>reopen_count</th>\n      <th>sys_mod_count</th>\n      <th>made_sla</th>\n      <th>impact</th>\n      <th>urgency</th>\n      <th>priority</th>\n      <th>knowledge</th>\n      <th>u_priority_confirmation</th>\n      <th>incident_state_Active</th>\n      <th>incident_state_Awaiting</th>\n      <th>incident_state_Closed</th>\n      <th>incident_state_New</th>\n      <th>incident_state_Resolved</th>\n      <th>lifetime</th>\n      <th>action_at</th>\n    </tr>\n  </thead>\n  <tbody>\n    <tr>\n      <th>0</th>\n      <td>0</td>\n      <td>1</td>\n      <td>0</td>\n      <td>0</td>\n      <td>0</td>\n      <td>2</td>\n      <td>2</td>\n      <td>3</td>\n      <td>0</td>\n      <td>0</td>\n      <td>0</td>\n      <td>0</td>\n      <td>0</td>\n      <td>1</td>\n      <td>0</td>\n      <td>64</td>\n      <td>0</td>\n    </tr>\n    <tr>\n      <th>1</th>\n      <td>0</td>\n      <td>1</td>\n      <td>0</td>\n      <td>2</td>\n      <td>0</td>\n      <td>2</td>\n      <td>2</td>\n      <td>3</td>\n      <td>0</td>\n      <td>0</td>\n      <td>0</td>\n      <td>0</td>\n      <td>0</td>\n      <td>0</td>\n      <td>1</td>\n      <td>64</td>\n      <td>0</td>\n    </tr>\n    <tr>\n      <th>2</th>\n      <td>0</td>\n      <td>1</td>\n      <td>0</td>\n      <td>3</td>\n      <td>0</td>\n      <td>2</td>\n      <td>2</td>\n      <td>3</td>\n      <td>0</td>\n      <td>0</td>\n      <td>0</td>\n      <td>0</td>\n      <td>0</td>\n      <td>0</td>\n      <td>1</td>\n      <td>64</td>\n      <td>0</td>\n    </tr>\n    <tr>\n      <th>3</th>\n      <td>0</td>\n      <td>1</td>\n      <td>0</td>\n      <td>4</td>\n      <td>0</td>\n      <td>2</td>\n      <td>2</td>\n      <td>3</td>\n      <td>0</td>\n      <td>0</td>\n      <td>0</td>\n      <td>0</td>\n      <td>1</td>\n      <td>0</td>\n      <td>0</td>\n      <td>64</td>\n      <td>64</td>\n    </tr>\n    <tr>\n      <th>4</th>\n      <td>0</td>\n      <td>1</td>\n      <td>0</td>\n      <td>0</td>\n      <td>0</td>\n      <td>2</td>\n      <td>2</td>\n      <td>3</td>\n      <td>0</td>\n      <td>0</td>\n      <td>0</td>\n      <td>0</td>\n      <td>0</td>\n      <td>1</td>\n      <td>0</td>\n      <td>95</td>\n      <td>0</td>\n    </tr>\n  </tbody>\n</table>\n</div>"
     },
     "metadata": {},
     "execution_count": 208
    }
   ],
   "source": [
    "df.head()"
   ]
  },
  {
   "cell_type": "code",
   "execution_count": 209,
   "metadata": {},
   "outputs": [
    {
     "output_type": "execute_result",
     "data": {
      "text/plain": [
       "Index(['active', 'reassignment_count', 'reopen_count', 'sys_mod_count',\n",
       "       'made_sla', 'impact', 'urgency', 'priority', 'knowledge',\n",
       "       'u_priority_confirmation', 'incident_state_Active',\n",
       "       'incident_state_Awaiting', 'incident_state_Closed',\n",
       "       'incident_state_New', 'incident_state_Resolved', 'lifetime',\n",
       "       'action_at'],\n",
       "      dtype='object')"
      ]
     },
     "metadata": {},
     "execution_count": 209
    }
   ],
   "source": [
    "df.columns"
   ]
  },
  {
   "cell_type": "code",
   "execution_count": 210,
   "metadata": {},
   "outputs": [
    {
     "output_type": "execute_result",
     "data": {
      "text/plain": [
       "   active reassignment_count  reopen_count  sys_mod_count  made_sla  impact  \\\n",
       "0       0                  1             0              0         0       2   \n",
       "1       0                  1             0              2         0       2   \n",
       "2       0                  1             0              3         0       2   \n",
       "3       0                  1             0              4         0       2   \n",
       "4       0                  1             0              0         0       2   \n",
       "\n",
       "   urgency  priority  knowledge  u_priority_confirmation  \\\n",
       "0        2         3          0                        0   \n",
       "1        2         3          0                        0   \n",
       "2        2         3          0                        0   \n",
       "3        2         3          0                        0   \n",
       "4        2         3          0                        0   \n",
       "\n",
       "   incident_state_Active  incident_state_Awaiting  incident_state_Closed  \\\n",
       "0                      0                        0                      0   \n",
       "1                      0                        0                      0   \n",
       "2                      0                        0                      0   \n",
       "3                      0                        0                      1   \n",
       "4                      0                        0                      0   \n",
       "\n",
       "   incident_state_New  incident_state_Resolved  lifetime  action_at  \n",
       "0                   1                        0        64          0  \n",
       "1                   0                        1        64          0  \n",
       "2                   0                        1        64          0  \n",
       "3                   0                        0        64         64  \n",
       "4                   1                        0        95          0  "
      ],
      "text/html": "<div>\n<style scoped>\n    .dataframe tbody tr th:only-of-type {\n        vertical-align: middle;\n    }\n\n    .dataframe tbody tr th {\n        vertical-align: top;\n    }\n\n    .dataframe thead th {\n        text-align: right;\n    }\n</style>\n<table border=\"1\" class=\"dataframe\">\n  <thead>\n    <tr style=\"text-align: right;\">\n      <th></th>\n      <th>active</th>\n      <th>reassignment_count</th>\n      <th>reopen_count</th>\n      <th>sys_mod_count</th>\n      <th>made_sla</th>\n      <th>impact</th>\n      <th>urgency</th>\n      <th>priority</th>\n      <th>knowledge</th>\n      <th>u_priority_confirmation</th>\n      <th>incident_state_Active</th>\n      <th>incident_state_Awaiting</th>\n      <th>incident_state_Closed</th>\n      <th>incident_state_New</th>\n      <th>incident_state_Resolved</th>\n      <th>lifetime</th>\n      <th>action_at</th>\n    </tr>\n  </thead>\n  <tbody>\n    <tr>\n      <th>0</th>\n      <td>0</td>\n      <td>1</td>\n      <td>0</td>\n      <td>0</td>\n      <td>0</td>\n      <td>2</td>\n      <td>2</td>\n      <td>3</td>\n      <td>0</td>\n      <td>0</td>\n      <td>0</td>\n      <td>0</td>\n      <td>0</td>\n      <td>1</td>\n      <td>0</td>\n      <td>64</td>\n      <td>0</td>\n    </tr>\n    <tr>\n      <th>1</th>\n      <td>0</td>\n      <td>1</td>\n      <td>0</td>\n      <td>2</td>\n      <td>0</td>\n      <td>2</td>\n      <td>2</td>\n      <td>3</td>\n      <td>0</td>\n      <td>0</td>\n      <td>0</td>\n      <td>0</td>\n      <td>0</td>\n      <td>0</td>\n      <td>1</td>\n      <td>64</td>\n      <td>0</td>\n    </tr>\n    <tr>\n      <th>2</th>\n      <td>0</td>\n      <td>1</td>\n      <td>0</td>\n      <td>3</td>\n      <td>0</td>\n      <td>2</td>\n      <td>2</td>\n      <td>3</td>\n      <td>0</td>\n      <td>0</td>\n      <td>0</td>\n      <td>0</td>\n      <td>0</td>\n      <td>0</td>\n      <td>1</td>\n      <td>64</td>\n      <td>0</td>\n    </tr>\n    <tr>\n      <th>3</th>\n      <td>0</td>\n      <td>1</td>\n      <td>0</td>\n      <td>4</td>\n      <td>0</td>\n      <td>2</td>\n      <td>2</td>\n      <td>3</td>\n      <td>0</td>\n      <td>0</td>\n      <td>0</td>\n      <td>0</td>\n      <td>1</td>\n      <td>0</td>\n      <td>0</td>\n      <td>64</td>\n      <td>64</td>\n    </tr>\n    <tr>\n      <th>4</th>\n      <td>0</td>\n      <td>1</td>\n      <td>0</td>\n      <td>0</td>\n      <td>0</td>\n      <td>2</td>\n      <td>2</td>\n      <td>3</td>\n      <td>0</td>\n      <td>0</td>\n      <td>0</td>\n      <td>0</td>\n      <td>0</td>\n      <td>1</td>\n      <td>0</td>\n      <td>95</td>\n      <td>0</td>\n    </tr>\n  </tbody>\n</table>\n</div>"
     },
     "metadata": {},
     "execution_count": 210
    }
   ],
   "source": [
    "df.head()"
   ]
  },
  {
   "cell_type": "code",
   "execution_count": null,
   "metadata": {},
   "outputs": [],
   "source": []
  }
 ],
 "metadata": {
  "kernelspec": {
   "display_name": "Python 3",
   "language": "python",
   "name": "python3"
  },
  "language_info": {
   "codemirror_mode": {
    "name": "ipython",
    "version": 3
   },
   "file_extension": ".py",
   "mimetype": "text/x-python",
   "name": "python",
   "nbconvert_exporter": "python",
   "pygments_lexer": "ipython3",
   "version": "3.7.6-final"
  }
 },
 "nbformat": 4,
 "nbformat_minor": 4
}