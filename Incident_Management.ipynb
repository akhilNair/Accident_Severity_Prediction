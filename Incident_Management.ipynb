{
 "cells": [
  {
   "cell_type": "code",
   "execution_count": null,
   "metadata": {},
   "outputs": [],
   "source": [
    "#importing the necessary libraries\n",
    "import pandas as pd\n",
    "import numpy as np\n",
    "import matplotlib.pyplot as plt\n",
    "import seaborn as sns\n",
    "from tqdm import tqdm\n",
    "from sklearn.preprocessing import MinMaxScaler\n",
    "scaler = MinMaxScaler(feature_range=(0, 1))\n",
    "from sklearn.impute import SimpleImputer"
   ]
  },
  {
   "cell_type": "code",
   "execution_count": null,
   "metadata": {},
   "outputs": [],
   "source": [
    "#importing the incident dataset for analysis\n",
    "incident=pd.read_csv(\"./Data/incident_event_log.csv\")\n",
    "incident.head()"
   ]
  },
  {
   "cell_type": "code",
   "execution_count": null,
   "metadata": {},
   "outputs": [],
   "source": [
    "#Analysing the shape of the dataframe\n",
    "incident.shape"
   ]
  },
  {
   "cell_type": "code",
   "execution_count": null,
   "metadata": {},
   "outputs": [],
   "source": [
    "#Calculating NA's in each column\n",
    "incident.isnull().sum(axis=0) "
   ]
  },
  {
   "cell_type": "code",
   "execution_count": null,
   "metadata": {},
   "outputs": [],
   "source": [
    "#Checking for the datatypes present in the dataframe\n",
    "incident.dtypes"
   ]
  },
  {
   "cell_type": "code",
   "execution_count": null,
   "metadata": {},
   "outputs": [],
   "source": [
    "#Estimating the range of values in the dataset\n",
    "incident.describe()"
   ]
  },
  {
   "cell_type": "code",
   "execution_count": null,
   "metadata": {},
   "outputs": [],
   "source": [
    "#df.drop(['cmdb_ci', 'problem_id', 'rfc', 'vendor','caused_by','caller_id','opened_by','sys_created_by','sys_updated_by','location','resolved_by','notify','assigned_to','assignment_group'],axis = 1,inplace=True)"
   ]
  },
  {
   "cell_type": "code",
   "execution_count": null,
   "metadata": {},
   "outputs": [],
   "source": [
    " #Replacing ? in the dataframe\n",
    "incident.replace('?', np.NaN, inplace = True)\n",
    "incident.info()"
   ]
  },
  {
   "cell_type": "code",
   "execution_count": null,
   "metadata": {},
   "outputs": [],
   "source": [
    "#Generating a heatmap to explore the columns which have most NA values\n",
    "fig, ax = plt.subplots(figsize=(10,10))  \n",
    "sns.heatmap(incident.isnull(), cmap='viridis',ax=ax) "
   ]
  },
  {
   "cell_type": "code",
   "execution_count": null,
   "metadata": {},
   "outputs": [],
   "source": [
    "#Removing the columns which had NA values the most\n",
    "incident_processed = incident.drop(incident.columns[[19,28,29,30,31]],axis=1) "
   ]
  },
  {
   "cell_type": "code",
   "execution_count": null,
   "metadata": {},
   "outputs": [],
   "source": [
    "#Replacing with mean for numerical columns\n",
    "df_imputer=SimpleImputer(missing_values=np.NaN, strategy='mean', verbose=0)\n",
    "df_imputer=df_imputer.fit(incident_processed.iloc[:,[3,4,5]])# columns with missing values\n",
    "incident_processed.iloc[:,[3,4,5]]=df_imputer.transform(incident_processed.iloc[:,[3,4,5]])"
   ]
  },
  {
   "cell_type": "code",
   "execution_count": null,
   "metadata": {},
   "outputs": [],
   "source": [
    "#Replacing with mode for categorical columns\n",
    "for column in ['caller_id', 'opened_by', 'sys_created_by','sys_created_at','location','category','subcategory','u_symptom','assignment_group','assigned_to','closed_code','resolved_by','resolved_at']:\n",
    "    incident_processed[column].fillna(incident_processed[column].mode()[0], inplace=True) "
   ]
  },
  {
   "cell_type": "code",
   "execution_count": null,
   "metadata": {},
   "outputs": [],
   "source": [
    "# Applying labelencoder to transform categorical value to numerical value\n",
    "from sklearn.preprocessing import LabelEncoder\n",
    "le = LabelEncoder()\n",
    "df = incident_processed.apply(le.fit_transform) "
   ]
  },
  {
   "cell_type": "code",
   "execution_count": null,
   "metadata": {},
   "outputs": [],
   "source": [
    "df.head(8)"
   ]
  },
  {
   "cell_type": "code",
   "execution_count": null,
   "metadata": {},
   "outputs": [],
   "source": [
    "#remove outliers\n",
    "#df = df[df['incident_state'] != '-100' ]"
   ]
  },
  {
   "cell_type": "code",
   "execution_count": null,
   "metadata": {},
   "outputs": [],
   "source": [
    "# replace subtypes of Awaiting incident state into main type of Awaiting\n",
    "df['incident_state'].replace(['Awaiting User Info','Awaiting Problem','Awaiting Vendor','Awaiting Evidence'],'Awaiting',inplace = True)"
   ]
  },
  {
   "cell_type": "code",
   "execution_count": null,
   "metadata": {},
   "outputs": [],
   "source": [
    "df[['priority','incident_state']].groupby('incident_state').agg(['count'])"
   ]
  },
  {
   "cell_type": "code",
   "execution_count": null,
   "metadata": {},
   "outputs": [],
   "source": [
    "# df['active'] = df['active'].apply(lambda x : 1 if x == 'True' else 0)\n",
    "# df['made_sla'] = df['made_sla'].apply(lambda x : 1 if x == 'True' else 0)\n",
    "# df['knowledge'] = df['knowledge'].apply(lambda x : 1 if x == 'True' else 0)\n",
    "# df['u_priority_confirmation'] = df['u_priority_confirmation'].apply(lambda x : 1 if x == 'True' else 0)\n",
    "# df['priority'] = df['priority'].apply(lambda x : 1 if '1' in x else 2 if '2' in x else 3 if '3' in x else 4)\n",
    "# df['impact'] = df['impact'].apply(lambda x : 1 if '1' in x else 2 if '2' in x else 3 if '3' in x else 4)\n",
    "# df['urgency'] = df['urgency'].apply(lambda x : 1 if '1' in x else 2 if '2' in x else 3 if '3' in x else 4)\n",
    "# reass_count_labels = [1,2,3,4,5]\n",
    "# df['reassignment_count'] = pd.cut(df['reassignment_count'],bins = 5, labels = reass_count_labels)\n",
    "# df = pd.get_dummies(df,columns = ['incident_state'])"
   ]
  },
  {
   "cell_type": "code",
   "execution_count": null,
   "metadata": {},
   "outputs": [],
   "source": [
    "#Convert date time string values into pandas datetime values\n",
    "df['closed_at'] = pd.to_datetime(df['closed_at'])\n",
    "df['opened_at'] = pd.to_datetime(df['opened_at'])\n",
    "df['resolved_at'] = pd.to_datetime(df['resolved_at'])\n",
    "df['sys_updated_at'] = pd.to_datetime(df['sys_updated_at'])\n"
   ]
  },
  {
   "cell_type": "code",
   "execution_count": null,
   "metadata": {},
   "outputs": [],
   "source": [
    "#calculate features like lifetime = time the incident was active, action_at = time taken when first action was undertaken\n",
    "df['lifetime'] = df['closed_at'] - df['opened_at']\n",
    "df['action_at'] = df['sys_updated_at'] - df['opened_at']"
   ]
  },
  {
   "cell_type": "code",
   "execution_count": null,
   "metadata": {},
   "outputs": [],
   "source": [
    "#extract only the day values from datetime value for features\n",
    "df['lifetime'] = df['lifetime'].dt.days\n",
    "df['action_at'] = df['action_at'].dt.days"
   ]
  },
  {
   "cell_type": "code",
   "execution_count": null,
   "metadata": {},
   "outputs": [],
   "source": [
    "#check number of records having close time before open time (which is wrong : It is because the the record opentime was updated by the user. Hence we extract the original open time by sorting cases with similar case number in ascending order and taking the opentime from the record with earliest system updated time)\n",
    "df['number'][df['lifetime'] < 0], df['opened_at'][df['lifetime'] < 0]"
   ]
  },
  {
   "cell_type": "code",
   "execution_count": null,
   "metadata": {},
   "outputs": [],
   "source": [
    "def update_same_case_records(df):\n",
    "    df.reset_index()\n",
    "    unique_case_ids = df['number'].unique()\n",
    "    if len(unique_case_ids) > 0:\n",
    "        for case_id in tqdm(unique_case_ids):\n",
    "            #indicidual case id reccords\n",
    "            df_case = df[df['number'] == case_id]\n",
    "            #sort the column by system updated at\n",
    "            sorted_df_case = df_case.sort_values('sys_updated_at')\n",
    "            #sorted_df_case.reset_index(inplace=True)\n",
    "            initial_record = sorted_df_case.iloc[[0]]\n",
    "            latest_record = sorted_df_case.iloc[[sorted_df_case.shape[0]-1]]\n",
    "            lifetime = latest_record['closed_at'] - latest_record['opened_at']\n",
    "            lifetime = lifetime.dt.days.values[0]\n",
    "            if  lifetime <= 0: latest_record['opened_at'] = initial_record['sys_updated_at'].values\n",
    "            df = df[df['number'] != case_id]\n",
    "            if df['number'].isnull().values.any():\n",
    "                df = pd.concat([df,latest_record.to_frame()])\n",
    "            else: df = pd.concat([df,latest_record])\n",
    "    return df\n"
   ]
  },
  {
   "cell_type": "code",
   "execution_count": null,
   "metadata": {},
   "outputs": [],
   "source": [
    "df_same_case = df[df['lifetime'] < 0]\n",
    "df_unique_case = df[df['lifetime'] > 0]"
   ]
  },
  {
   "cell_type": "code",
   "execution_count": null,
   "metadata": {
    "tags": []
   },
   "outputs": [],
   "source": [
    "df_same_case = update_same_case_records(df_same_case)"
   ]
  },
  {
   "cell_type": "code",
   "execution_count": null,
   "metadata": {},
   "outputs": [],
   "source": [
    "#merge unique cases and the newly created df having single record for every case number\n",
    "df_new = pd.concat([df_unique_case,df_same_case])"
   ]
  },
  {
   "cell_type": "code",
   "execution_count": null,
   "metadata": {},
   "outputs": [],
   "source": [
    "# create features lifetime and action_at\n",
    "df_new['lifetime'] = df_new['closed_at'] - df_new['opened_at']\n",
    "df_new['action_at'] = df_new['sys_updated_at'] - df_new['opened_at']\n",
    "\n",
    "#store only days values as features\n",
    "df_new['lifetime'] = df_new['lifetime'].dt.days\n",
    "df_new['action_at'] = df_new['action_at'].dt.days\n",
    "\n",
    "#scale lifetime and action_at features\n",
    "features = ['lifetime','action_at']\n",
    "df_new[features] = scaler.fit_transform(df_new[features])"
   ]
  },
  {
   "cell_type": "code",
   "execution_count": null,
   "metadata": {},
   "outputs": [],
   "source": [
    "df_new.head()"
   ]
  },
  {
   "cell_type": "code",
   "execution_count": null,
   "metadata": {},
   "outputs": [],
   "source": [
    "#check if there are records with negative lifetime\n",
    "df_new['number'][df_new['lifetime'] < 0], df_new['opened_at'][df_new['lifetime'] < 0]"
   ]
  },
  {
   "cell_type": "code",
   "execution_count": null,
   "metadata": {},
   "outputs": [],
   "source": [
    "# store case numbers for analytical purpose\n",
    "ids = df_new['number']\n",
    "df_new.drop(['number'],inplace = True, axis = 1)"
   ]
  },
  {
   "cell_type": "code",
   "execution_count": null,
   "metadata": {},
   "outputs": [],
   "source": [
    "df_new.columns"
   ]
  },
  {
   "cell_type": "code",
   "execution_count": null,
   "metadata": {},
   "outputs": [],
   "source": [
    "# drop irrelevant features\n",
    "df_new.drop(['closed_at','opened_at','sys_updated_at','sys_created_at','resolved_at','closed_code','category','subcategory','u_symptom','contact_type'],axis = 1,inplace=True)"
   ]
  },
  {
   "cell_type": "code",
   "execution_count": null,
   "metadata": {},
   "outputs": [],
   "source": [
    "# reset index values and drop index column for the model input\n",
    "df_new.reset_index(inplace= True)\n",
    "df_new.drop(['index'],axis = 1,inplace=True)"
   ]
  },
  {
   "cell_type": "code",
   "execution_count": null,
   "metadata": {},
   "outputs": [],
   "source": [
    "df_new.head()"
   ]
  },
  {
   "cell_type": "code",
   "execution_count": null,
   "metadata": {},
   "outputs": [],
   "source": [
    "df_new.to_csv('Data/reopened.csv')"
   ]
  },
  {
   "cell_type": "code",
   "execution_count": null,
   "metadata": {},
   "outputs": [],
   "source": []
  },
  {
   "cell_type": "code",
   "execution_count": null,
   "metadata": {},
   "outputs": [],
   "source": []
  }
 ],
 "metadata": {
  "kernelspec": {
   "display_name": "Python 3",
   "language": "python",
   "name": "python3"
  },
  "language_info": {
   "codemirror_mode": {
    "name": "ipython",
    "version": 3
   },
   "file_extension": ".py",
   "mimetype": "text/x-python",
   "name": "python",
   "nbconvert_exporter": "python",
   "pygments_lexer": "ipython3",
   "version": "3.7.6"
  }
 },
 "nbformat": 4,
 "nbformat_minor": 4
}
