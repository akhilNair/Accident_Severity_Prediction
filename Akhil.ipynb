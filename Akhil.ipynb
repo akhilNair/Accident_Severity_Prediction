{
 "cells": [
  {
   "cell_type": "code",
   "execution_count": 1,
   "metadata": {},
   "outputs": [],
   "source": [
    "import pandas as pd\n",
    "import numpy as np"
   ]
  },
  {
   "cell_type": "code",
   "execution_count": 6,
   "metadata": {},
   "outputs": [
    {
     "output_type": "execute_result",
     "data": {
      "text/plain": [
       "       number incident_state  active  reassignment_count  reopen_count  \\\n",
       "0  INC0000045            New    True                   0             0   \n",
       "1  INC0000045       Resolved    True                   0             0   \n",
       "2  INC0000045       Resolved    True                   0             0   \n",
       "3  INC0000045         Closed   False                   0             0   \n",
       "4  INC0000047            New    True                   0             0   \n",
       "\n",
       "   sys_mod_count  made_sla    caller_id       opened_by        opened_at  ...  \\\n",
       "0              0      True  Caller 2403    Opened by  8  29/2/2016 01:16  ...   \n",
       "1              2      True  Caller 2403    Opened by  8  29/2/2016 01:16  ...   \n",
       "2              3      True  Caller 2403    Opened by  8  29/2/2016 01:16  ...   \n",
       "3              4      True  Caller 2403    Opened by  8  29/2/2016 01:16  ...   \n",
       "4              0      True  Caller 2403  Opened by  397  29/2/2016 04:40  ...   \n",
       "\n",
       "  u_priority_confirmation         notify problem_id rfc vendor caused_by  \\\n",
       "0                   False  Do Not Notify          ?   ?      ?         ?   \n",
       "1                   False  Do Not Notify          ?   ?      ?         ?   \n",
       "2                   False  Do Not Notify          ?   ?      ?         ?   \n",
       "3                   False  Do Not Notify          ?   ?      ?         ?   \n",
       "4                   False  Do Not Notify          ?   ?      ?         ?   \n",
       "\n",
       "  closed_code      resolved_by      resolved_at       closed_at  \n",
       "0      code 5  Resolved by 149  29/2/2016 11:29  5/3/2016 12:00  \n",
       "1      code 5  Resolved by 149  29/2/2016 11:29  5/3/2016 12:00  \n",
       "2      code 5  Resolved by 149  29/2/2016 11:29  5/3/2016 12:00  \n",
       "3      code 5  Resolved by 149  29/2/2016 11:29  5/3/2016 12:00  \n",
       "4      code 5   Resolved by 81   1/3/2016 09:52  6/3/2016 10:00  \n",
       "\n",
       "[5 rows x 36 columns]"
      ],
      "text/html": "<div>\n<style scoped>\n    .dataframe tbody tr th:only-of-type {\n        vertical-align: middle;\n    }\n\n    .dataframe tbody tr th {\n        vertical-align: top;\n    }\n\n    .dataframe thead th {\n        text-align: right;\n    }\n</style>\n<table border=\"1\" class=\"dataframe\">\n  <thead>\n    <tr style=\"text-align: right;\">\n      <th></th>\n      <th>number</th>\n      <th>incident_state</th>\n      <th>active</th>\n      <th>reassignment_count</th>\n      <th>reopen_count</th>\n      <th>sys_mod_count</th>\n      <th>made_sla</th>\n      <th>caller_id</th>\n      <th>opened_by</th>\n      <th>opened_at</th>\n      <th>...</th>\n      <th>u_priority_confirmation</th>\n      <th>notify</th>\n      <th>problem_id</th>\n      <th>rfc</th>\n      <th>vendor</th>\n      <th>caused_by</th>\n      <th>closed_code</th>\n      <th>resolved_by</th>\n      <th>resolved_at</th>\n      <th>closed_at</th>\n    </tr>\n  </thead>\n  <tbody>\n    <tr>\n      <th>0</th>\n      <td>INC0000045</td>\n      <td>New</td>\n      <td>True</td>\n      <td>0</td>\n      <td>0</td>\n      <td>0</td>\n      <td>True</td>\n      <td>Caller 2403</td>\n      <td>Opened by  8</td>\n      <td>29/2/2016 01:16</td>\n      <td>...</td>\n      <td>False</td>\n      <td>Do Not Notify</td>\n      <td>?</td>\n      <td>?</td>\n      <td>?</td>\n      <td>?</td>\n      <td>code 5</td>\n      <td>Resolved by 149</td>\n      <td>29/2/2016 11:29</td>\n      <td>5/3/2016 12:00</td>\n    </tr>\n    <tr>\n      <th>1</th>\n      <td>INC0000045</td>\n      <td>Resolved</td>\n      <td>True</td>\n      <td>0</td>\n      <td>0</td>\n      <td>2</td>\n      <td>True</td>\n      <td>Caller 2403</td>\n      <td>Opened by  8</td>\n      <td>29/2/2016 01:16</td>\n      <td>...</td>\n      <td>False</td>\n      <td>Do Not Notify</td>\n      <td>?</td>\n      <td>?</td>\n      <td>?</td>\n      <td>?</td>\n      <td>code 5</td>\n      <td>Resolved by 149</td>\n      <td>29/2/2016 11:29</td>\n      <td>5/3/2016 12:00</td>\n    </tr>\n    <tr>\n      <th>2</th>\n      <td>INC0000045</td>\n      <td>Resolved</td>\n      <td>True</td>\n      <td>0</td>\n      <td>0</td>\n      <td>3</td>\n      <td>True</td>\n      <td>Caller 2403</td>\n      <td>Opened by  8</td>\n      <td>29/2/2016 01:16</td>\n      <td>...</td>\n      <td>False</td>\n      <td>Do Not Notify</td>\n      <td>?</td>\n      <td>?</td>\n      <td>?</td>\n      <td>?</td>\n      <td>code 5</td>\n      <td>Resolved by 149</td>\n      <td>29/2/2016 11:29</td>\n      <td>5/3/2016 12:00</td>\n    </tr>\n    <tr>\n      <th>3</th>\n      <td>INC0000045</td>\n      <td>Closed</td>\n      <td>False</td>\n      <td>0</td>\n      <td>0</td>\n      <td>4</td>\n      <td>True</td>\n      <td>Caller 2403</td>\n      <td>Opened by  8</td>\n      <td>29/2/2016 01:16</td>\n      <td>...</td>\n      <td>False</td>\n      <td>Do Not Notify</td>\n      <td>?</td>\n      <td>?</td>\n      <td>?</td>\n      <td>?</td>\n      <td>code 5</td>\n      <td>Resolved by 149</td>\n      <td>29/2/2016 11:29</td>\n      <td>5/3/2016 12:00</td>\n    </tr>\n    <tr>\n      <th>4</th>\n      <td>INC0000047</td>\n      <td>New</td>\n      <td>True</td>\n      <td>0</td>\n      <td>0</td>\n      <td>0</td>\n      <td>True</td>\n      <td>Caller 2403</td>\n      <td>Opened by  397</td>\n      <td>29/2/2016 04:40</td>\n      <td>...</td>\n      <td>False</td>\n      <td>Do Not Notify</td>\n      <td>?</td>\n      <td>?</td>\n      <td>?</td>\n      <td>?</td>\n      <td>code 5</td>\n      <td>Resolved by 81</td>\n      <td>1/3/2016 09:52</td>\n      <td>6/3/2016 10:00</td>\n    </tr>\n  </tbody>\n</table>\n<p>5 rows × 36 columns</p>\n</div>"
     },
     "metadata": {},
     "execution_count": 6
    }
   ],
   "source": [
    "df = pd.read_csv('incident_event_log.csv')\n",
    "cols = ['number','incident_state','active',,'knowledge','u_priority_confirmation','notify']\n",
    "df.head()"
   ]
  },
  {
   "cell_type": "code",
   "execution_count": 9,
   "metadata": {},
   "outputs": [
    {
     "output_type": "stream",
     "name": "stdout",
     "text": [
      "<class 'pandas.core.frame.DataFrame'>\nRangeIndex: 141712 entries, 0 to 141711\nData columns (total 36 columns):\n #   Column                   Non-Null Count   Dtype \n---  ------                   --------------   ----- \n 0   number                   141712 non-null  object\n 1   incident_state           141712 non-null  object\n 2   active                   141712 non-null  bool  \n 3   reassignment_count       141712 non-null  int64 \n 4   reopen_count             141712 non-null  int64 \n 5   sys_mod_count            141712 non-null  int64 \n 6   made_sla                 141712 non-null  bool  \n 7   caller_id                141712 non-null  object\n 8   opened_by                141712 non-null  object\n 9   opened_at                141712 non-null  object\n 10  sys_created_by           141712 non-null  object\n 11  sys_created_at           141712 non-null  object\n 12  sys_updated_by           141712 non-null  object\n 13  sys_updated_at           141712 non-null  object\n 14  contact_type             141712 non-null  object\n 15  location                 141712 non-null  object\n 16  category                 141712 non-null  object\n 17  subcategory              141712 non-null  object\n 18  u_symptom                141712 non-null  object\n 19  cmdb_ci                  141712 non-null  object\n 20  impact                   141712 non-null  object\n 21  urgency                  141712 non-null  object\n 22  priority                 141712 non-null  object\n 23  assignment_group         141712 non-null  object\n 24  assigned_to              141712 non-null  object\n 25  knowledge                141712 non-null  bool  \n 26  u_priority_confirmation  141712 non-null  bool  \n 27  notify                   141712 non-null  object\n 28  problem_id               141712 non-null  object\n 29  rfc                      141712 non-null  object\n 30  vendor                   141712 non-null  object\n 31  caused_by                141712 non-null  object\n 32  closed_code              141712 non-null  object\n 33  resolved_by              141712 non-null  object\n 34  resolved_at              141712 non-null  object\n 35  closed_at                141712 non-null  object\ndtypes: bool(4), int64(3), object(29)\nmemory usage: 35.1+ MB\n"
     ]
    }
   ],
   "source": [
    "df.info()"
   ]
  },
  {
   "cell_type": "code",
   "execution_count": 16,
   "metadata": {},
   "outputs": [
    {
     "output_type": "execute_result",
     "data": {
      "text/plain": [
       "array([ True, False])"
      ]
     },
     "metadata": {},
     "execution_count": 16
    }
   ],
   "source": [
    "df['knowledge'].unique()"
   ]
  },
  {
   "cell_type": "code",
   "execution_count": 3,
   "metadata": {},
   "outputs": [
    {
     "output_type": "execute_result",
     "data": {
      "text/plain": [
       "Index(['number', 'incident_state', 'active', 'reassignment_count',\n",
       "       'reopen_count', 'sys_mod_count', 'made_sla', 'caller_id', 'opened_by',\n",
       "       'opened_at', 'sys_created_by', 'sys_created_at', 'sys_updated_by',\n",
       "       'sys_updated_at', 'contact_type', 'location', 'category', 'subcategory',\n",
       "       'u_symptom', 'cmdb_ci', 'impact', 'urgency', 'priority',\n",
       "       'assignment_group', 'assigned_to', 'knowledge',\n",
       "       'u_priority_confirmation', 'notify', 'problem_id', 'rfc', 'vendor',\n",
       "       'caused_by', 'closed_code', 'resolved_by', 'resolved_at', 'closed_at'],\n",
       "      dtype='object')"
      ]
     },
     "metadata": {},
     "execution_count": 3
    }
   ],
   "source": [
    "df.columns"
   ]
  },
  {
   "cell_type": "code",
   "execution_count": 5,
   "metadata": {},
   "outputs": [
    {
     "output_type": "execute_result",
     "data": {
      "text/plain": [
       "       reassignment_count   reopen_count  sys_mod_count\n",
       "count       141712.000000  141712.000000  141712.000000\n",
       "mean             1.104197       0.021918       5.080946\n",
       "std              1.734673       0.207302       7.680652\n",
       "min              0.000000       0.000000       0.000000\n",
       "25%              0.000000       0.000000       1.000000\n",
       "50%              1.000000       0.000000       3.000000\n",
       "75%              1.000000       0.000000       6.000000\n",
       "max             27.000000       8.000000     129.000000"
      ],
      "text/html": "<div>\n<style scoped>\n    .dataframe tbody tr th:only-of-type {\n        vertical-align: middle;\n    }\n\n    .dataframe tbody tr th {\n        vertical-align: top;\n    }\n\n    .dataframe thead th {\n        text-align: right;\n    }\n</style>\n<table border=\"1\" class=\"dataframe\">\n  <thead>\n    <tr style=\"text-align: right;\">\n      <th></th>\n      <th>reassignment_count</th>\n      <th>reopen_count</th>\n      <th>sys_mod_count</th>\n    </tr>\n  </thead>\n  <tbody>\n    <tr>\n      <th>count</th>\n      <td>141712.000000</td>\n      <td>141712.000000</td>\n      <td>141712.000000</td>\n    </tr>\n    <tr>\n      <th>mean</th>\n      <td>1.104197</td>\n      <td>0.021918</td>\n      <td>5.080946</td>\n    </tr>\n    <tr>\n      <th>std</th>\n      <td>1.734673</td>\n      <td>0.207302</td>\n      <td>7.680652</td>\n    </tr>\n    <tr>\n      <th>min</th>\n      <td>0.000000</td>\n      <td>0.000000</td>\n      <td>0.000000</td>\n    </tr>\n    <tr>\n      <th>25%</th>\n      <td>0.000000</td>\n      <td>0.000000</td>\n      <td>1.000000</td>\n    </tr>\n    <tr>\n      <th>50%</th>\n      <td>1.000000</td>\n      <td>0.000000</td>\n      <td>3.000000</td>\n    </tr>\n    <tr>\n      <th>75%</th>\n      <td>1.000000</td>\n      <td>0.000000</td>\n      <td>6.000000</td>\n    </tr>\n    <tr>\n      <th>max</th>\n      <td>27.000000</td>\n      <td>8.000000</td>\n      <td>129.000000</td>\n    </tr>\n  </tbody>\n</table>\n</div>"
     },
     "metadata": {},
     "execution_count": 5
    }
   ],
   "source": [
    "df.describe()"
   ]
  },
  {
   "cell_type": "code",
   "execution_count": null,
   "metadata": {},
   "outputs": [],
   "source": []
  }
 ],
 "metadata": {
  "kernelspec": {
   "display_name": "Python 3",
   "language": "python",
   "name": "python3"
  },
  "language_info": {
   "codemirror_mode": {
    "name": "ipython",
    "version": 3
   },
   "file_extension": ".py",
   "mimetype": "text/x-python",
   "name": "python",
   "nbconvert_exporter": "python",
   "pygments_lexer": "ipython3",
   "version": "3.7.9-final"
  }
 },
 "nbformat": 4,
 "nbformat_minor": 2
}